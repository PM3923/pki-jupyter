{
  "cells": [
    {
      "cell_type": "markdown",
      "metadata": {
        "id": "DofGTZTNIdm0"
      },
      "source": [
        "<figure>\n",
        "  <IMG SRC=\"https://upload.wikimedia.org/wikipedia/commons/thumb/d/d5/Fachhochschule_Südwestfalen_20xx_logo.svg/320px-Fachhochschule_Südwestfalen_20xx_logo.svg.png\" WIDTH=250 ALIGN=\"right\">\n",
        "</figure>\n",
        "\n",
        "# Programmierung für KI\n",
        "### Winterersemester 2025/26\n",
        "Prof. Dr. Heiner Giefers"
      ]
    },
    {
      "cell_type": "markdown",
      "metadata": {
        "id": "mkIqk5XhIdm1"
      },
      "source": [
        "### Aufgabe 1\n",
        "Schreiben Sie Python Code zur Berechnung des Umfangs und der Fläche eines Rechtecks mit einer Höhe von 5 cm und einer Breite von 8 cm. Legen Sie für die Höhe und Breite Variablen an.\n",
        "\n",
        "*Erwartete Ausgabe:*\n",
        "\n",
        "    Umfang des Rechtecks = 26 Zentimeter\n",
        "    Fläche des Rechtecks = 40 Quadratzentimeter"
      ]
    },
    {
      "cell_type": "code",
      "execution_count": 3,
      "metadata": {
        "deletable": false,
        "nbgrader": {
          "grade": true,
          "grade_id": "cell-533ebaaea0ab7001",
          "locked": false,
          "points": 0,
          "schema_version": 3,
          "solution": true,
          "task": false
        },
        "colab": {
          "base_uri": "https://localhost:8080/"
        },
        "id": "DtcG3MYBIdm1",
        "outputId": "a7440519-81d1-4c9f-d5c8-4dced7d12fe0"
      },
      "outputs": [
        {
          "output_type": "stream",
          "name": "stdout",
          "text": [
            "26 40\n"
          ]
        }
      ],
      "source": [
        "h=5\n",
        "b=8\n",
        "u=(h+b)*2\n",
        "a=h*b\n",
        "print(u, a)"
      ]
    },
    {
      "cell_type": "markdown",
      "metadata": {
        "id": "4UNdCDviIdm1"
      },
      "source": [
        "### Aufgabe 2\n",
        "Schreiben Sie Python Code zur Berechnung des Umfangs und der Fläche eines Kreises mit einem bestimmten Radius.\n",
        "\n",
        "*Erwartete Ausgabe (für r=4.0):*\n",
        "\n",
        "    Umfang des Kreises = 25.13272 Zentimeter\n",
        "    Fläche des Kreises = 50.26544 Quadratzentimeter"
      ]
    },
    {
      "cell_type": "code",
      "execution_count": 31,
      "metadata": {
        "deletable": false,
        "nbgrader": {
          "grade": true,
          "grade_id": "cell-73b3be8cee93e020",
          "locked": false,
          "points": 0,
          "schema_version": 3,
          "solution": true,
          "task": false
        },
        "colab": {
          "base_uri": "https://localhost:8080/"
        },
        "id": "u7qyXd-oIdm1",
        "outputId": "576a0583-062f-4f4c-926e-001ac534e90b"
      },
      "outputs": [
        {
          "output_type": "stream",
          "name": "stdout",
          "text": [
            "25.13274, 50.26548\n"
          ]
        }
      ],
      "source": [
        "import math\n",
        "pi=math.pi\n",
        "r=4.0\n",
        "U=2*pi*r\n",
        "A=pi*r**2\n",
        "print(f'{U:.5f}, {A:.5f}')\n"
      ]
    },
    {
      "cell_type": "markdown",
      "metadata": {
        "id": "lQR789GjIdm2"
      },
      "source": [
        "### Aufgabe 3\n",
        "\n",
        "Ändern Sie die Aufgaben 1 oder 2 so ab, dass Sie die Seitenlängen des Rechtecks, bzw. den Radius des Kreises nicht als feste Werte im Programm anlegen, sondern vom Benutzer erfragen. Verwenden Sie dazu die `input` Funktion.\n",
        "\n",
        "*Erwartete Ausgabe (z.B.):*\n",
        "\n",
        "    Gib den Radius an: 7\n",
        "    Umfang des Kreises = 43.98226 Zentimeter\n",
        "    Fläche des Kreises = 153.93791 Quadratzentimeter"
      ]
    },
    {
      "cell_type": "code",
      "execution_count": 29,
      "metadata": {
        "deletable": false,
        "nbgrader": {
          "grade": true,
          "grade_id": "cell-dd53a420499f9213",
          "locked": false,
          "points": 0,
          "schema_version": 3,
          "solution": true,
          "task": false
        },
        "colab": {
          "base_uri": "https://localhost:8080/"
        },
        "id": "BkUpHS2lIdm2",
        "outputId": "1615edd2-e7fe-4308-cdaf-fcb7a9715194"
      },
      "outputs": [
        {
          "output_type": "stream",
          "name": "stdout",
          "text": [
            "7\n",
            "43.98230, 153.93804\n"
          ]
        }
      ],
      "source": [
        "import math\n",
        "pi=math.pi\n",
        "r = float(input())\n",
        "U=2*pi*r\n",
        "A=pi*r**2\n",
        "print(f'{U:.5f}, {A:.5f}')"
      ]
    },
    {
      "cell_type": "markdown",
      "metadata": {
        "id": "kD_8At7fIdm2"
      },
      "source": [
        "### Aufgabe 4\n",
        "\n",
        "Schreiben Sie Python Code, der eine Basis und einen Exponenten vom Benutzer erfragt und damit die Potenz berechnet und ausgibt.\n",
        "\n",
        "*Erwartete Ausgabe:*\n",
        "\n",
        "    Gib die Basis an: 7\n",
        "    Gib denn Exponenten an: 2.1\n",
        "    7.0 hoch 2.1 ist 59.52588815791429"
      ]
    },
    {
      "cell_type": "code",
      "execution_count": 32,
      "metadata": {
        "deletable": false,
        "nbgrader": {
          "grade": true,
          "grade_id": "cell-9cb19e9cbb363107",
          "locked": false,
          "points": 0,
          "schema_version": 3,
          "solution": true,
          "task": false
        },
        "colab": {
          "base_uri": "https://localhost:8080/"
        },
        "id": "5ybN_Q09Idm2",
        "outputId": "5a02d718-2dfb-4ed9-d0b5-dd63d816b0fa"
      },
      "outputs": [
        {
          "output_type": "stream",
          "name": "stdout",
          "text": [
            "59.52588815791429\n"
          ]
        }
      ],
      "source": [
        "b=7\n",
        "e=2.1\n",
        "result=b**e\n",
        "print(result)"
      ]
    },
    {
      "cell_type": "markdown",
      "metadata": {
        "id": "JdkQ2zJOIdm2"
      },
      "source": [
        "### Aufgabe 5\n",
        "\n",
        "Schreiben Sie Python Code, der zwei ganze Zahlen erfragt und ausgibt, wie viele Zahlen zwischen den beiden eingegebenen Zahlen liegen. Das Programm soll auch funktionieren, wenn zuerst die größere Zahl eingegeben wurde.\n",
        "\n",
        "*Erwartete Ausgabe:*\n",
        "\n",
        "    Gib eine Zahl ein: 17\n",
        "    Gib eine weitere Zahl ein: 5\n",
        "    Zwischen 17 und 5 liegen 11 Werte"
      ]
    },
    {
      "cell_type": "code",
      "execution_count": 35,
      "metadata": {
        "deletable": false,
        "nbgrader": {
          "grade": true,
          "grade_id": "cell-99dda1c9772927e0",
          "locked": false,
          "points": 0,
          "schema_version": 3,
          "solution": true,
          "task": false
        },
        "colab": {
          "base_uri": "https://localhost:8080/"
        },
        "id": "uYXNvuGvIdm2",
        "outputId": "5ea97a6e-d123-4a3b-9958-1733ec798637"
      },
      "outputs": [
        {
          "output_type": "stream",
          "name": "stdout",
          "text": [
            "Ganze Zahl:-12\n",
            "Ganze Zahl:32\n",
            "44\n"
          ]
        }
      ],
      "source": [
        "a=int(input(\"Ganze Zahl:\"))\n",
        "b=int(input(\"Ganze Zahl:\"))\n",
        "diff=abs(a-b)\n",
        "print(diff)"
      ]
    },
    {
      "cell_type": "markdown",
      "metadata": {
        "id": "VC-FEp1SIdm2"
      },
      "source": [
        "### Aufgabe 6\n",
        "\n",
        "Schreiben Sie Python Code, der auf Grundlage einer Progressionstabelle aus dem Bruttolohn den Nettolohn berechnet. Die Steuersätze sind in 6 Tarifzonen aufgeteilt. Für Jahreseinkommen unter 10.000 Euro müssen keine Steuern bezahlt werden, für Einkommen über 10.000 und bis 14.000 14%, usw.\n",
        "Das Programm soll den Bruttolohn erfragen und den Nettolohn ausgeben.\n",
        "\n",
        "| Tarifzone | Einkommensbereich | Steuersatz |\n",
        "| --------- | ----------------- | ---------- |\n",
        "| Zone 0 | 0 bis 10.000 Euro | 0% |\n",
        "| Zone 1 | bis 14.000 Euro | 14% |\n",
        "| Zone 2 | bis 31.000 Euro | 22% |\n",
        "| Zone 3 | bis 56.000 Euro | 29% |\n",
        "| Zone 4 | bis 83.000 Euro | 32% |\n",
        "| Zone 5 | über 83.000 Euro | 36% |\n",
        "\n",
        "\n",
        "\n",
        "*Erwartete Ausgabe:*\n",
        "\n",
        "    Bruttolohn: 17000\n",
        "    Der Nettolohn betraegt 13260.0 Euro"
      ]
    },
    {
      "cell_type": "code",
      "execution_count": 38,
      "metadata": {
        "deletable": false,
        "nbgrader": {
          "grade": true,
          "grade_id": "cell-fd30702a98a52ffa",
          "locked": false,
          "points": 0,
          "schema_version": 3,
          "solution": true,
          "task": false
        },
        "colab": {
          "base_uri": "https://localhost:8080/"
        },
        "id": "o7A6quh7Idm2",
        "outputId": "c66809cf-734d-467a-fb7b-2395d6025280"
      },
      "outputs": [
        {
          "output_type": "stream",
          "name": "stdout",
          "text": [
            "Bruttolohn:344444\n",
            "Nettolohn: 220444.2\n"
          ]
        }
      ],
      "source": [
        "x=float(input(\"Bruttolohn:\"))\n",
        "if x <= 10000:\n",
        "  y=x\n",
        "elif x <= 14000:\n",
        "  y=x*(1-0.14)\n",
        "elif x <= 31000:\n",
        "  y=x*(1-0.22)\n",
        "elif x <= 56000:\n",
        "  y=x*(1-0.29)\n",
        "elif x <= 83000:\n",
        "  y=x*(1-0.32)\n",
        "else:\n",
        "  y=x*(1-0.36)\n",
        "print(f'Nettolohn: {y:.1f}')"
      ]
    },
    {
      "cell_type": "markdown",
      "metadata": {
        "id": "J0w7FI3mIdm3"
      },
      "source": [
        "### Aufgabe 7\n",
        "\n",
        "Schreiben Sie Python Code, der eine Zahl und einen möglichen Teiler der Zahl erfragt. Das Programm soll berechnen, ob die zweite Zahl tatsächlich ein Teiler der ersten Zahl ist. (Hinweis: Dass eine Zahl durch eine andere teilbar ist, erkennt man daran, dass der Rest der ganzzahligen Division 0 ist. Diesen Rest können Sie mit der Modulo Operation berechnen.)\n",
        "\n",
        "*Erwartete Ausgabe:*\n",
        "\n",
        "    Gib eine Zahl ein: 30\n",
        "    Gib einen möglichen Teiler an: 7\n",
        "    7 ist kein Teiler von 30"
      ]
    },
    {
      "cell_type": "code",
      "execution_count": 41,
      "metadata": {
        "deletable": false,
        "nbgrader": {
          "grade": true,
          "grade_id": "cell-4a3398bf3fd6f9d3",
          "locked": false,
          "points": 0,
          "schema_version": 3,
          "solution": true,
          "task": false
        },
        "colab": {
          "base_uri": "https://localhost:8080/"
        },
        "id": "wbScopg1Idm3",
        "outputId": "2404bcb8-d3fb-4901-8644-07db45a20ea4"
      },
      "outputs": [
        {
          "output_type": "stream",
          "name": "stdout",
          "text": [
            "Zahl:10\n",
            "Teiler:3\n",
            "Nicht Teilbar!\n"
          ]
        }
      ],
      "source": [
        "zahl=int(input(\"Zahl:\"))\n",
        "teiler=int(input(\"Teiler:\"))\n",
        "modulo=zahl%teiler\n",
        "if modulo==0:\n",
        "  print(\"Teilbar!\")\n",
        "else:\n",
        "  print(\"Nicht Teilbar!\")"
      ]
    },
    {
      "cell_type": "markdown",
      "metadata": {
        "id": "EdbIocg0Idm3"
      },
      "source": [
        "### Aufgabe 8\n",
        "\n",
        "Schreiben Sie Python Code, der die Zahlen von 1 bis 50 ausgibt.\n",
        "\n",
        "Hinweis: In dieser Aufgabe benötigen Sie eine Programmschleife, die erst in Kapitel 5 des Lehrbuchs behandelt wird. Daher machen wir an dieser Stelle einen kleinen Vorgriff.\n",
        "\n",
        "Für unsere Zwecke hier ist eine `while`-Schleife gut geeignet. Die Schleife wird folgendermaßen programmiert:\n",
        "```python\n",
        "while <Bedingung>:\n",
        "    <Anweisungen>\n",
        "```\n",
        "`<Bedingung>` und `<Anweisungen>` sind natürlich nur Platzhalter für *echten* Python Code. Probieren Sie einfach mal aus, die richtige Lösung zu finden. Denken Sie daran, dass sie *mitzählen* müssen, wie viele Zahlen sie schon ausgegeben haben. Dafür benötigen Sie unbedingt eine Variable.\n",
        "\n",
        "*Erwartete Ausgabe:*\n",
        "\n",
        "    1\n",
        "    2\n",
        "    3\n",
        "    4\n",
        "    5\n",
        "    ...\n",
        "    \n",
        "*Variante 2: Wie können Sie folgende Ausgabe erreichen? In der Hilfe der `print` Funktion finden Sie eine Möglichkeit.*\n",
        "\n",
        "    1 2 3 4 5 ..."
      ]
    },
    {
      "cell_type": "code",
      "execution_count": 42,
      "metadata": {
        "deletable": false,
        "nbgrader": {
          "grade": true,
          "grade_id": "cell-5eea370da17614f2",
          "locked": false,
          "points": 0,
          "schema_version": 3,
          "solution": true,
          "task": false
        },
        "colab": {
          "base_uri": "https://localhost:8080/"
        },
        "id": "i-qx3ZgXIdm3",
        "outputId": "1aea02ee-9f6b-457c-d430-af5bcf20b431"
      },
      "outputs": [
        {
          "output_type": "stream",
          "name": "stdout",
          "text": [
            "1\n",
            "2\n",
            "3\n",
            "4\n",
            "5\n",
            "6\n",
            "7\n",
            "8\n",
            "9\n",
            "10\n",
            "11\n",
            "12\n",
            "13\n",
            "14\n",
            "15\n",
            "16\n",
            "17\n",
            "18\n",
            "19\n",
            "20\n",
            "21\n",
            "22\n",
            "23\n",
            "24\n",
            "25\n",
            "26\n",
            "27\n",
            "28\n",
            "29\n",
            "30\n",
            "31\n",
            "32\n",
            "33\n",
            "34\n",
            "35\n",
            "36\n",
            "37\n",
            "38\n",
            "39\n",
            "40\n",
            "41\n",
            "42\n",
            "43\n",
            "44\n",
            "45\n",
            "46\n",
            "47\n",
            "48\n",
            "49\n",
            "50\n"
          ]
        }
      ],
      "source": [
        "x=1\n",
        "while x<=50:\n",
        "  print(x)\n",
        "  x+=1"
      ]
    },
    {
      "cell_type": "markdown",
      "metadata": {
        "id": "NDtTxbxMIdm3"
      },
      "source": [
        "### Aufgabe 9\n",
        "\n",
        "Schreiben Sie Python Code, das vom Benutzer die Eingabe einer Zahl verlangt. Solange die eingegebene Zahl keine 0 ist, soll das Programm die Summe aller bisher eingegebenen Zahlen ausgeben und nach einer weiteren Zahl fragen.\n",
        "\n",
        "*Erwartete Ausgabe:*\n",
        "\n",
        "    Gib eine Zahl ein: 3\n",
        "    Die Summe ist: 3\n",
        "    Gib eine Zahl ein: 5\n",
        "    Die Summe ist: 8\n",
        "    Gib eine Zahl ein: 2\n",
        "    Die Summe ist: 10\n",
        "    Gib eine Zahl ein: 0\n",
        "    Die Summe ist: 10"
      ]
    },
    {
      "cell_type": "code",
      "execution_count": 44,
      "metadata": {
        "deletable": false,
        "nbgrader": {
          "grade": true,
          "grade_id": "cell-971c5cbc19a1428e",
          "locked": false,
          "points": 0,
          "schema_version": 3,
          "solution": true,
          "task": false
        },
        "colab": {
          "base_uri": "https://localhost:8080/"
        },
        "id": "6B2or4BjIdm3",
        "outputId": "becc1888-72dd-424c-eb56-96c46805a6e1"
      },
      "outputs": [
        {
          "output_type": "stream",
          "name": "stdout",
          "text": [
            "Zahl:32\n",
            "Summe: 32\n",
            "Zahl:3\n",
            "Summe: 35\n",
            "Zahl:10\n",
            "Summe: 45\n",
            "Zahl:0\n",
            "Summe: 45\n"
          ]
        }
      ],
      "source": [
        "y=0\n",
        "while (x!=0):\n",
        "  x=int(input(\"Zahl:\"))\n",
        "  y+=x\n",
        "  print(\"Summe:\", y)"
      ]
    },
    {
      "cell_type": "markdown",
      "metadata": {
        "id": "GyKC6dXnIdm3"
      },
      "source": [
        "### Aufgabe 10\n",
        "\n",
        "Schreiben Sie Python Code, der eine Zahl vom Benutzer erfragt und dann alle Teiler dieser Zahl ausgibt. (Hinweis: Wenn `n` die eingegebene Zahl ist, probieren Sie einfach alle Zahlen von 1 bis `n` aus. Ist die aktuelle Zahl ein Teiler von `n`, so geben Sie sie aus. Falls nicht, gehen Sie zur nächsten Zahl über.\n",
        "\n",
        "*Erwartete Ausgabe:*\n",
        "\n",
        "    Gib eine Zahl ein: 64\n",
        "    1 ist ein Teiler von 64\n",
        "    2 ist ein Teiler von 64\n",
        "    4 ist ein Teiler von 64\n",
        "    8 ist ein Teiler von 64\n",
        "    16 ist ein Teiler von 64\n",
        "    32 ist ein Teiler von 64\n",
        "    64 ist ein Teiler von 64"
      ]
    },
    {
      "cell_type": "code",
      "execution_count": 47,
      "metadata": {
        "deletable": false,
        "nbgrader": {
          "grade": true,
          "grade_id": "cell-a20097ae565b5731",
          "locked": false,
          "points": 0,
          "schema_version": 3,
          "solution": true,
          "task": false
        },
        "colab": {
          "base_uri": "https://localhost:8080/"
        },
        "id": "cWjT-eaHIdm3",
        "outputId": "338b478a-3f9e-4bbc-f87d-72890527b5c7"
      },
      "outputs": [
        {
          "output_type": "stream",
          "name": "stdout",
          "text": [
            "Zahl:10\n",
            "1 ist ein Teiler von 10\n",
            "2 ist ein Teiler von 10\n",
            "5 ist ein Teiler von 10\n",
            "10 ist ein Teiler von 10\n"
          ]
        }
      ],
      "source": [
        "x=int(input(\"Zahl:\"))\n",
        "y=1\n",
        "while (y<=x):\n",
        "  if x%y==0:\n",
        "    print(y, \"ist ein Teiler von\", x)\n",
        "  y+=1"
      ]
    },
    {
      "cell_type": "markdown",
      "metadata": {
        "id": "OHGGoMHpIdm3"
      },
      "source": [
        "### Aufgabe 11\n",
        "\n",
        "Schreiben Sie Python Code, der die Multiplikationstabelle für das Kleine Einmaleins ausgibt. Das Programm soll die Werte berechnen und prinzipiell auch für Operanden größer 10 verwendbar sein.\n",
        "\n",
        "Hinweis: Um die Tabelle schöner zu formatieren, können Sie zum Ausgeben des Werts einen Format-Sting verwenden. Um den Wert von `zahl` mit 4 Stellen auszugeben, verwenden Sie den Format-String `f\"{zahl:4d}\"`.\n",
        "\n",
        "*Erwartete Ausgabe:*\n",
        "\n",
        "       1   2   3   4   5   6   7   8   9  10\n",
        "       2   4   6   8  10  12  14  16  18  20\n",
        "       3   6   9  12  15  18  21  24  27  30\n",
        "       4   8  12  16  20  24  28  32  36  40\n",
        "       5  10  15  20  25  30  35  40  45  50\n",
        "       6  12  18  24  30  36  42  48  54  60\n",
        "       7  14  21  28  35  42  49  56  63  70\n",
        "       8  16  24  32  40  48  56  64  72  80\n",
        "       9  18  27  36  45  54  63  72  81  90\n",
        "      10  20  30  40  50  60  70  80  90 100\n",
        "  "
      ]
    },
    {
      "cell_type": "code",
      "execution_count": null,
      "metadata": {
        "deletable": false,
        "nbgrader": {
          "grade": true,
          "grade_id": "cell-a02925a0cedcc96e",
          "locked": false,
          "points": 0,
          "schema_version": 3,
          "solution": true,
          "task": false
        },
        "id": "DaIQ9x12Idm3"
      },
      "outputs": [],
      "source": [
        "# Lösung für Aufgabe 11\n",
        "# YOUR CODE HERE\n",
        "raise NotImplementedError()"
      ]
    },
    {
      "cell_type": "markdown",
      "metadata": {
        "id": "oy5ey9lmIdm3"
      },
      "source": [
        "### Aufgabe 12\n",
        "\n",
        "Schreiben Sie Python Code, der eine Folge von Werten berechnet, bei der jedes Element die Summe der beiden vorangegangene Werte ist. Der Startpunkt der Folge sind die Werte `1` und `1`. Das dritte Element der Folge ist demnach `2` (`1+1`), das vierte `3` (`1+2`), das fünfte `5` (`2+3`), das sechste `8` (`3+5`), usw. Fragen Sie vor der Berechnung ab, bis zu welchem Element die Folge berechnet werden soll.\n",
        "\n",
        "*Erwartete Ausgabe:*\n",
        "\n",
        "    Bis zu welcher Stelle soll die Folge berechnet werden? 10\n",
        "    Element 1 = 1\n",
        "    Element 2 = 1\n",
        "    Element 3 = 2\n",
        "    Element 4 = 3\n",
        "    Element 5 = 5\n",
        "    Element 6 = 8\n",
        "    Element 7 = 13\n",
        "    Element 8 = 21\n",
        "    Element 9 = 34\n",
        "    Element 10 = 55"
      ]
    },
    {
      "cell_type": "code",
      "execution_count": null,
      "metadata": {
        "deletable": false,
        "nbgrader": {
          "grade": true,
          "grade_id": "cell-35bb02c4121f8cc0",
          "locked": false,
          "points": 0,
          "schema_version": 3,
          "solution": true,
          "task": false
        },
        "id": "vvnHxeaoIdm3"
      },
      "outputs": [],
      "source": [
        "# Lösung für Aufgabe 12\n",
        "# YOUR CODE HERE\n",
        "raise NotImplementedError()"
      ]
    }
  ],
  "metadata": {
    "kernelspec": {
      "display_name": "Python 3 (ipykernel)",
      "language": "python",
      "name": "python3"
    },
    "language_info": {
      "codemirror_mode": {
        "name": "ipython",
        "version": 3
      },
      "file_extension": ".py",
      "mimetype": "text/x-python",
      "name": "python",
      "nbconvert_exporter": "python",
      "pygments_lexer": "ipython3",
      "version": "3.11.5"
    },
    "varInspector": {
      "cols": {
        "lenName": 16,
        "lenType": 16,
        "lenVar": 40
      },
      "kernels_config": {
        "python": {
          "delete_cmd_postfix": "",
          "delete_cmd_prefix": "del ",
          "library": "var_list.py",
          "varRefreshCmd": "print(var_dic_list())"
        },
        "r": {
          "delete_cmd_postfix": ") ",
          "delete_cmd_prefix": "rm(",
          "library": "var_list.r",
          "varRefreshCmd": "cat(var_dic_list()) "
        }
      },
      "types_to_exclude": [
        "module",
        "function",
        "builtin_function_or_method",
        "instance",
        "_Feature"
      ],
      "window_display": false
    },
    "colab": {
      "provenance": []
    }
  },
  "nbformat": 4,
  "nbformat_minor": 0
}